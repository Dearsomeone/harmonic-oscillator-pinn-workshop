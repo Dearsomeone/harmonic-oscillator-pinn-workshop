{
 "cells": [
  {
   "cell_type": "code",
   "execution_count": 1,
   "id": "43d951ca-5f68-4f1b-bfd4-50e3f1424ba9",
   "metadata": {},
   "outputs": [],
   "source": [
    "import torch\n",
    "import torch.nn as nn\n",
    "import torch.optim as optim\n",
    "import numpy as np\n",
    "import matplotlib.pyplot as plt\n",
    "%matplotlib inline"
   ]
  },
  {
   "cell_type": "code",
   "execution_count": 2,
   "id": "30d09e1f-1a87-4869-ab2e-a19c0054b737",
   "metadata": {},
   "outputs": [
    {
     "name": "stdout",
     "output_type": "stream",
     "text": [
      "CUDA is available. Using GPU: NVIDIA GeForce RTX 4070 Ti SUPER\n"
     ]
    }
   ],
   "source": [
    "# 检查是否有可用的 GPU\n",
    "if torch.cuda.is_available():\n",
    "    print(f\"CUDA is available. Using GPU: {torch.cuda.get_device_name(0)}\")\n",
    "else:\n",
    "    print(\"CUDA is not available. Using CPU.\")"
   ]
  },
  {
   "cell_type": "code",
   "execution_count": 3,
   "id": "a8c7f6f3-7db6-4969-afd4-a1261fe248cc",
   "metadata": {},
   "outputs": [
    {
     "name": "stdout",
     "output_type": "stream",
     "text": [
      "Epoch [0/10000], Loss: 0.6404430866241455\n",
      "Epoch [1000/10000], Loss: 1.4487203770841006e-05\n",
      "Epoch [2000/10000], Loss: 2.4140758796420414e-06\n",
      "Epoch [3000/10000], Loss: 4.165463906247169e-06\n",
      "Epoch [4000/10000], Loss: 9.22319202345534e-07\n",
      "Epoch [5000/10000], Loss: 7.91021705026651e-07\n",
      "Epoch [6000/10000], Loss: 4.662493324758543e-07\n",
      "Epoch [7000/10000], Loss: 1.2412297110131476e-05\n",
      "Epoch [8000/10000], Loss: 3.8845405470055994e-07\n",
      "Epoch [9000/10000], Loss: 3.631174649854074e-07\n",
      "Epoch [10000/10000], Loss: 3.348598056618357e-07\n"
     ]
    },
    {
     "data": {
      "image/png": "[encoded data removed]",
      "text/plain": [
       "<Figure size 640x480 with 1 Axes>"
      ]
     },
     "metadata": {},
     "output_type": "display_data"
    }
   ],
   "source": [
    "# 定义物理信息神经网络（PINN）\n",
    "class PINN(nn.Module):\n",
    "    def __init__(self, input_size, hidden_size, output_size):\n",
    "        super(PINN, self).__init__()\n",
    "        self.fc1 = nn.Linear(input_size, hidden_size)\n",
    "        self.fc2 = nn.Linear(hidden_size, hidden_size)\n",
    "        self.fc3 = nn.Linear(hidden_size, output_size)\n",
    "        self.tanh = nn.Tanh()\n",
    "\n",
    "    def forward(self, t):\n",
    "        x = self.tanh(self.fc1(t))\n",
    "        x = self.tanh(self.fc2(x))\n",
    "        x = self.fc3(x)\n",
    "        return x\n",
    "\n",
    "# 解析解 (analytical solution) 用于验证\n",
    "def exact_solution(t, k):\n",
    "    return torch.exp(-k * t)\n",
    "\n",
    "# 定义损失函数\n",
    "def pinn_loss(model, t, k):\n",
    "    # 模型的输出\n",
    "    y = model(t)\n",
    "\n",
    "    # 计算y关于t的导数 (dy/dt)\n",
    "    dydt = torch.autograd.grad(y, t, torch.ones_like(y), create_graph=True)[0]\n",
    "\n",
    "    # 物理损失：dy/dt + k*y = 0\n",
    "    physics_loss = torch.mean((dydt + k * y) ** 2)\n",
    "\n",
    "    # 边界损失：y(0) = 1\n",
    "    boundary_loss = (y[0] - 1) ** 2\n",
    "\n",
    "    # 总损失\n",
    "    total_loss = physics_loss + boundary_loss\n",
    "    return total_loss\n",
    "\n",
    "# 训练PINN模型\n",
    "def train_pinn():\n",
    "    # 参数设置\n",
    "    k = 2.0  # 衰减常数\n",
    "    t_train = torch.linspace(0, 1, 100).view(-1, 1)  # 训练点\n",
    "    t_train.requires_grad = True  # 计算梯度\n",
    "\n",
    "    # 初始化模型和优化器\n",
    "    model = PINN(1, 50, 1)\n",
    "    optimizer = optim.Adam(model.parameters(), lr=0.001)\n",
    "\n",
    "    # 训练\n",
    "    for epoch in range(10001):\n",
    "        optimizer.zero_grad()  # 梯度清零\n",
    "\n",
    "        # 计算损失\n",
    "        loss = pinn_loss(model, t_train, k)\n",
    "        \n",
    "        # 反向传播\n",
    "        loss.backward()\n",
    "        optimizer.step()\n",
    "\n",
    "        if epoch % 1000 == 0:\n",
    "            print(f\"Epoch [{epoch}/10000], Loss: {loss.item()}\")\n",
    "\n",
    "    return model\n",
    "\n",
    "# 测试训练结果\n",
    "def test_pinn(model):\n",
    "    t_test = torch.linspace(0, 1, 300).view(-1, 1)  # 测试点\n",
    "    y_pred = model(t_test).detach().numpy()\n",
    "\n",
    "    # 解析解\n",
    "    y_exact = exact_solution(t_test, k=2.0).numpy()\n",
    "\n",
    "    import matplotlib.pyplot as plt\n",
    "    plt.plot(t_test.numpy(), y_exact, label=\"Exact Solution\")\n",
    "    plt.plot(t_test.numpy(), y_pred, label=\"PINN Prediction\")\n",
    "    plt.legend()\n",
    "    plt.show()\n",
    "\n",
    "# 主函数\n",
    "if __name__ == \"__main__\":\n",
    "    model = train_pinn()\n",
    "    test_pinn(model)\n"
   ]
  }
 ],
 "metadata": {
  "kernelspec": {
   "display_name": "PyTorch",
   "language": "python",
   "name": "pytorch"
  },
  "language_info": {
   "codemirror_mode": {
    "name": "ipython",
    "version": 3
   },
   "file_extension": ".py",
   "mimetype": "text/x-python",
   "name": "python",
   "nbconvert_exporter": "python",
   "pygments_lexer": "ipython3",
   "version": "3.12.9"
  }
 },
 "nbformat": 4,
 "nbformat_minor": 5
}
